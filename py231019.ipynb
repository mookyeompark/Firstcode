{
  "nbformat": 4,
  "nbformat_minor": 0,
  "metadata": {
    "colab": {
      "provenance": [],
      "authorship_tag": "ABX9TyOhmg1olYn76hbPXCHy56t4",
      "include_colab_link": true
    },
    "kernelspec": {
      "name": "python3",
      "display_name": "Python 3"
    },
    "language_info": {
      "name": "python"
    }
  },
  "cells": [
    {
      "cell_type": "markdown",
      "metadata": {
        "id": "view-in-github",
        "colab_type": "text"
      },
      "source": [
        "<a href=\"https://colab.research.google.com/github/mookyeompark/Firstcode/blob/main/py231019.ipynb\" target=\"_parent\"><img src=\"https://colab.research.google.com/assets/colab-badge.svg\" alt=\"Open In Colab\"/></a>"
      ]
    },
    {
      "cell_type": "code",
      "execution_count": null,
      "metadata": {
        "id": "p57i-9iyuDIy"
      },
      "outputs": [],
      "source": []
    },
    {
      "cell_type": "markdown",
      "source": [
        "1. To Do List를 작성하시오.\n",
        " -2023년 10월 19일 박무겸\n",
        "- (1) 9:20 도서관에서 책 빌리기\n",
        "- (2) 10:10 컴퓨팅적 사고와 기초코딩 수업\n",
        "- (3) 13:00 점심식사\n",
        "- (4) 14:00 교양수업\n",
        "- (5) 16:00 파이썬 공부 및 레포트 작성\n",
        "- (6) 17:40 저녁식사 및 집안일 돕기\n",
        "- (7) 19:00 LOL 하기\n",
        "  "
      ],
      "metadata": {
        "id": "SVL9cngwuRj7"
      }
    },
    {
      "cell_type": "code",
      "source": [
        "print(\"hello world\")\n",
        "print((1) 9:20 도서관에서 책 빌리기)\n",
        "print( 10:10 컴퓨팅적 사고와 기초코딩 수업)\n",
        "print(13:00 점심식사)\n",
        "print(14:00 교양수업)\n",
        "print(16:00 파이썬 공부 및 레포트 작성)\n",
        "print(17:40 저녁식사 및 집안일 돕기)\n",
        "print(19:00 LOL 하기)"
      ],
      "metadata": {
        "id": "EwcJ1MpDyO-T"
      },
      "execution_count": null,
      "outputs": []
    },
    {
      "cell_type": "markdown",
      "source": [
        "2. 인사말 출력하기\n",
        " - 식사하셨습니까 행님\n",
        ""
      ],
      "metadata": {
        "id": "yNqpNmSUwYKM"
      }
    },
    {
      "cell_type": "code",
      "source": [
        "print(식사하셨습니까 행님)"
      ],
      "metadata": {
        "id": "UDNWvwaE8hj6"
      },
      "execution_count": null,
      "outputs": []
    },
    {
      "cell_type": "markdown",
      "source": [
        "3. 학생 4명의 국어 점수를 입력받아서 아래와 같이 입력하시오\n",
        " - 박보검: 90점\n",
        " - 션    : 92점\n",
        " - 도룡용: 80점\n",
        " - 차은우: 99점\n",
        " - 국어 점수 순위\n",
        " - 1등 차은우\n",
        " - 2등 션\n",
        " - 3등 박보검\n",
        " - 4등 도룡용"
      ],
      "metadata": {
        "id": "eY06T4_Lwwbr"
      }
    },
    {
      "cell_type": "code",
      "source": [
        "n1 = input(\"학생 점수를 입력하시오\")\n",
        "n2 = input(\"학생 점수를 입력하시오\")\n",
        "n3 = input(\"학생 점수를 입력하시오\")\n",
        "n4 = input(\"학생 점수를 입력하시오\")\n",
        "\n",
        "print(\"국어 점수 순위\")\n",
        "print(\"1등\", n4)\n",
        "print(\"2등\", n2)\n",
        "print(\"3등\", n1)\n",
        "print(\"4등\", n3)"
      ],
      "metadata": {
        "colab": {
          "base_uri": "https://localhost:8080/"
        },
        "id": "dvpazjMl8G95",
        "outputId": "e76ea7d2-1df0-4d12-a9fb-308c9f3a128a"
      },
      "execution_count": 12,
      "outputs": [
        {
          "output_type": "stream",
          "name": "stdout",
          "text": [
            "학생 점수를 입력하시오박보검 90점\n",
            "학생 점수를 입력하시오션 92점\n",
            "학생 점수를 입력하시오도룡용 80점\n",
            "학생 점수를 입력하시오차은우 99점\n",
            "국어 점수 순위\n",
            "1등 차은우 99점\n",
            "2등 션 92점\n",
            "3등 박보검 90점\n",
            "4등 도룡용 80점\n"
          ]
        }
      ]
    },
    {
      "cell_type": "markdown",
      "source": [
        "4. 두개의 점수를 입력받아서 합계와 평균을 출력하시오"
      ],
      "metadata": {
        "id": "JSyAhhtf57JT"
      }
    },
    {
      "cell_type": "code",
      "source": [
        "n1 = int(input(\"n1의 값을 입력하시오: \"))\n",
        "n2 = int(input(\"n2의 값을 입력하시오: \"))\n",
        "total = n1 + n2\n",
        "average = total / 2\n",
        "print(average)\n",
        "print(n1+n2)"
      ],
      "metadata": {
        "colab": {
          "base_uri": "https://localhost:8080/"
        },
        "id": "cM4yi-Gi0uZi",
        "outputId": "bd3b3d62-e4f5-4e26-c4e3-15c9a5ac2793"
      },
      "execution_count": 5,
      "outputs": [
        {
          "output_type": "stream",
          "name": "stdout",
          "text": [
            "n1의 값을 입력하시오: 10\n",
            "n2의 값을 입력하시오: 50\n",
            "30.0\n",
            "60\n"
          ]
        }
      ]
    }
  ]
}