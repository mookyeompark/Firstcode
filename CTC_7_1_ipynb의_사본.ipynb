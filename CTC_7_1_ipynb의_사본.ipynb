{
  "nbformat": 4,
  "nbformat_minor": 0,
  "metadata": {
    "colab": {
      "provenance": [],
      "include_colab_link": true
    },
    "kernelspec": {
      "name": "python3",
      "display_name": "Python 3"
    },
    "language_info": {
      "name": "python"
    }
  },
  "cells": [
    {
      "cell_type": "markdown",
      "metadata": {
        "id": "view-in-github",
        "colab_type": "text"
      },
      "source": [
        "<a href=\"https://colab.research.google.com/github/mookyeompark/Firstcode/blob/main/CTC_7_1_ipynb%EC%9D%98_%EC%82%AC%EB%B3%B8.ipynb\" target=\"_parent\"><img src=\"https://colab.research.google.com/assets/colab-badge.svg\" alt=\"Open In Colab\"/></a>"
      ]
    },
    {
      "cell_type": "markdown",
      "source": [
        "1. 사용자로부터 3개의 값 (x, y, z)를 입력받아서 각각 1씩 증가되고, 출력되는 코드 작성"
      ],
      "metadata": {
        "id": "piFZkaQtG0aQ"
      }
    },
    {
      "cell_type": "code",
      "execution_count": null,
      "metadata": {
        "colab": {
          "base_uri": "https://localhost:8080/"
        },
        "id": "iMV5l9bBGsmB",
        "outputId": "0a60800e-d255-45d3-c703-3e9a008f8ca9"
      },
      "outputs": [
        {
          "output_type": "stream",
          "name": "stdout",
          "text": [
            "x의 값을 입력하시오1\n",
            "y의 값을 입력하시오2\n",
            "z의 값을 입력하시오3\n",
            "x의 값은2이며 y 값은 3이며 z값은 4이다\n"
          ]
        }
      ],
      "source": [
        "x = int(input('x의 값을 입력하시오')) #사용자로부터 'x'의 값을 입력받아 정수로 변환하여 'x' 변수에 저장합니다.\n",
        "y = int(input('y의 값을 입력하시오'))   # 사용자로부터 'y'의 값을 입력받아 정수로 변환하여 'y' 변수에 저장합니다.\n",
        "z = int(input('z의 값을 입력하시오')) # 사용자로부터 'z'의 값을 입력받아 정수로 변환하여 'z' 변수에 저장합니다.\n",
        "x = x+1 # 'x' 변수의 값을 1 증가시킵니다.\n",
        "y = y+1  # 'y' 변수의 값을 1 증가시킵니다.\n",
        "z = z+1 # 'z' 변수의 값을 1 증가시킵니다.\n",
        "print(f'x의 값은{x}이며 y 값은 {y}이며 z값은 {z}이다')  # f-string을 사용하여 'x', 'y', 'z' 변수의 값을 출력합니다."
      ]
    },
    {
      "cell_type": "markdown",
      "source": [
        "2. 알바생의 시급과 시간을 계산하여 월급을 출력하는 코드"
      ],
      "metadata": {
        "id": "4omdyEl2JFMF"
      }
    },
    {
      "cell_type": "code",
      "source": [
        "hours_worked = int(input('일한 시간을 입력하시오'))\n",  # 사용자로부터 '일한 시간' 값을 입력받아 정수로 변환하여 'hours_worked' 변수에 저장합니다.
        "pay_rate = int(input('시급을 입력하시오(2023 기준 9620원):'))\n", # 사용자로부터 '시급' 값을 입력받아 정수로 변환하여 'pay_rate' 변수에 저장합니다.
        "monthly_pay = hours_worked * pay_rate\n", # 'hours_worked' 변수와 'pay_rate' 변수를 곱하여 'monthly_pay' 변수에 저장합니다.
        "print(f'일한 시간은 {hours_worked}이고, 시급은 {pay_rate}이며 월 급여는 {monthly_pay}입니다.')" # f-string을 사용하여 결과를 출력합니다.
      ],
      "metadata": {
        "colab": {
          "base_uri": "https://localhost:8080/"
        },
        "id": "8ZjIwy7IJbQY",
        "outputId": "56e075fe-728e-4e0a-f501-09c975facb62"
      },
      "execution_count": null,
      "outputs": [
        {
          "output_type": "stream",
          "name": "stdout",
          "text": [
            "일한 시간을 입력하시오8\n",
            "시급을 입력하시오(2023 기준 9620원):9620\n",
            "일한 시간은 {hours_worked}이고, 시급은 {pay_rate}이며 월 급여는 {monthly_pay}입니다.\n"
          ]
        }
      ]
    },
    {
      "cell_type": "markdown",
      "source": [
        "3. 환율계산하는 코드 작성\n",
        " -원의 변수는 won\n",
        " -달러의 변수는 usd\n",
        " -환전의 변수는 exchange"
      ],
      "metadata": {
        "id": "_aPQdffoLnXP"
      }
    },
    {
      "cell_type": "code",
      "source": [
        "from io import UnsupportedOperation\n",
        "won = int(input('환전할 금액을 입력(kor):'))\n",
        "usd = int(input('현재 달러의 환율 입력하시오(231031: 1372)'))\n",
        "exchange = won /usd\n",
        "print(f'환전할 금액은 {won}이며 달러 금액은 {usd}이고 환전 금액은{exchange}입니다.')"
      ],
      "metadata": {
        "colab": {
          "base_uri": "https://localhost:8080/"
        },
        "id": "bSruHzlKL3WJ",
        "outputId": "c550dbb0-829a-4a27-c15d-da9d54a51c01"
      },
      "execution_count": null,
      "outputs": [
        {
          "output_type": "stream",
          "name": "stdout",
          "text": [
            "환전할 금액을 입력(kor):5000\n",
            "현재 달러의 환율 입력하시오(231031: 1372)1372\n",
            "환전할 금액은 5000이며 달러 금액은 1372이고 환전 금액은3.6443148688046647입니다.\n"
          ]
        }
      ]
    },
    {
      "cell_type": "markdown",
      "source": [
        "4. 화씨(farenheit)를 섭씨(cecius)로 변환하는 코드 작성"
      ],
      "metadata": {
        "id": "UlLTzEPgN3SY"
      }
    },
    {
      "cell_type": "code",
      "source": [
        "fahrenheit = int(input('화씨온도를 입력하시오:'))\n",
        "celcius = (fahrenheit - 32) / 1.8\n",
        "print(f' 화씨온도는{fahrenheit}, 섭씨{celcius} 입니다')"
      ],
      "metadata": {
        "colab": {
          "base_uri": "https://localhost:8080/"
        },
        "id": "t-pFeI_IOPtu",
        "outputId": "b14d5517-f0b6-47e6-e4cd-e96f245927ab"
      },
      "execution_count": null,
      "outputs": [
        {
          "output_type": "stream",
          "name": "stdout",
          "text": [
            "화씨온도를 입력하시오:100\n",
            " 화씨온도는100, 섭씨37.77777777777778 입니다\n"
          ]
        }
      ]
    },
    {
      "cell_type": "code",
      "source": [
        "celcius = float(input(\"섭씨온도를 입력하시오: \"))\n",
        "fahrenheit = (celcius * 1.8) + 32\n",
        "print(f'섭씨{celcius}, 화씨온도는 {fahrenheit}입니다')"
      ],
      "metadata": {
        "colab": {
          "base_uri": "https://localhost:8080/"
        },
        "id": "obz1K5rzPpCM",
        "outputId": "6e8132c0-7306-4176-eb79-3546ef55aa78"
      },
      "execution_count": null,
      "outputs": [
        {
          "output_type": "stream",
          "name": "stdout",
          "text": [
            "섭씨온도를 입력하시오: 37.77777777777778 \n",
            "섭씨37.77777777777778, 화씨온도는 100.0입니다\n"
          ]
        }
      ]
    },
    {
      "cell_type": "markdown",
      "source": [
        "사용자로부터 2개의 정수를 받아서 합계를 출력"
      ],
      "metadata": {
        "id": "-wEQXczqUw2C"
      }
    },
    {
      "cell_type": "code",
      "source": [
        "int(input('x를 입력하시오:'))\n",
        "int(input('y를 입력하시오'))\n",
        "sum = x + y\n",
        "print( f' 합계는 {sum}입니다')"
      ],
      "metadata": {
        "colab": {
          "base_uri": "https://localhost:8080/"
        },
        "id": "ETQMnuH4U2k_",
        "outputId": "59baaafd-0a5e-4931-fcbc-9ada0b8001a3"
      },
      "execution_count": null,
      "outputs": [
        {
          "output_type": "stream",
          "name": "stdout",
          "text": [
            "x를 입력하시오:2\n",
            "y를 입력하시오3\n",
            " 합계는 5입니다\n"
          ]
        }
      ]
    },
    {
      "cell_type": "markdown",
      "source": [
        "부가세 계산"
      ],
      "metadata": {
        "id": "GWtots_6XtMr"
      }
    },
    {
      "cell_type": "code",
      "source": [
        "price = int(input('상품의 가격을 입력하시오:'))\n",
        "vat = (price * 0.1)\n",
        "print(f'부가세는 {vat}입니다')"
      ],
      "metadata": {
        "colab": {
          "base_uri": "https://localhost:8080/"
        },
        "id": "zUcYTBvfXvHk",
        "outputId": "a075f617-14f5-44a3-8e67-ac2be33ef22a"
      },
      "execution_count": null,
      "outputs": [
        {
          "output_type": "stream",
          "name": "stdout",
          "text": [
            "상품의 가격을 입력하시오:5000\n",
            "부가세는 500.0입니다\n"
          ]
        }
      ]
    }
  ]
}
