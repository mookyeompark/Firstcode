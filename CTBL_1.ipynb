{
  "nbformat": 4,
  "nbformat_minor": 0,
  "metadata": {
    "colab": {
      "provenance": [],
      "authorship_tag": "ABX9TyNdyOuNWYNMqYLzrmd9r1n/",
      "include_colab_link": true
    },
    "kernelspec": {
      "name": "python3",
      "display_name": "Python 3"
    },
    "language_info": {
      "name": "python"
    }
  },
  "cells": [
    {
      "cell_type": "markdown",
      "metadata": {
        "id": "view-in-github",
        "colab_type": "text"
      },
      "source": [
        "<a href=\"https://colab.research.google.com/github/mookyeompark/Firstcode/blob/main/CTBL_1.ipynb\" target=\"_parent\"><img src=\"https://colab.research.google.com/assets/colab-badge.svg\" alt=\"Open In Colab\"/></a>"
      ]
    },
    {
      "cell_type": "markdown",
      "source": [
        "1. 학생으로부터 성적을 입력받아 합격 유무를 출력하는 코드 작성\n",
        " - 사용변수: grade\n",
        " - 사용수식: grade >= 70"
      ],
      "metadata": {
        "id": "khEdy64-0woq"
      }
    },
    {
      "cell_type": "code",
      "source": [
        "Grade = int(input('성적 입력: '));\n",
        "if Grade >= 70:\n",
        "  print('70 이상 이므로 합격')\n",
        "else:\n",
        "  print('70점 이하이므로 불합격')"
      ],
      "metadata": {
        "colab": {
          "base_uri": "https://localhost:8080/"
        },
        "id": "MQ1yKaVF1JaY",
        "outputId": "d7b5a2ac-5d12-49c5-a94a-700940ee8afc"
      },
      "execution_count": 2,
      "outputs": [
        {
          "output_type": "stream",
          "name": "stdout",
          "text": [
            "성적 입력: 70\n",
            "70 이상 이므로 합격\n"
          ]
        }
      ]
    },
    {
      "cell_type": "markdown",
      "source": [
        "2. 쇼핑몰의 배송료를 계산하는 코드 작성\n",
        " - 변수: price, shipping_cost\n",
        " - 수식: price >= 20000\n",
        " - shpping_cost"
      ],
      "metadata": {
        "id": "b522E7oc3k0S"
      }
    },
    {
      "cell_type": "code",
      "source": [
        "Price = int(input(\"구입 금액 입력: \"))\n",
        "if Price >= 20000:\n",
        "  shipping_cost = 0\n",
        "  print(f'구입금액이 {Price}원 이상입니다.')\n",
        "else:\n",
        "  shipping_cost = 3000\n",
        "  print(\"구입금액이 2만원 이하 입니다\")\n",
        "print(f'회원님의 배송료는 {shipping_cost}입니다')"
      ],
      "metadata": {
        "colab": {
          "base_uri": "https://localhost:8080/"
        },
        "id": "y0Jfw37K6lrw",
        "outputId": "98ac130c-4708-4573-9f53-9e9f79a0a74b"
      },
      "execution_count": 5,
      "outputs": [
        {
          "output_type": "stream",
          "name": "stdout",
          "text": [
            "구입 금액 입력: 20000000\n",
            "구입금액이 20000000원 이상입니다.\n",
            "회원님의 배송료는 0입니다\n"
          ]
        }
      ]
    },
    {
      "cell_type": "markdown",
      "source": [
        "3. 근무시간에 따라 초과근무와 정상근무를 판별하는 코드 작성\n",
        " - 변수: work_hour\n",
        " - 수식: >=, 기준시간 72시간"
      ],
      "metadata": {
        "id": "UhkoAmtl7124"
      }
    },
    {
      "cell_type": "code",
      "source": [
        "work_hour = int(input('근무 시간 입력: '))\n",
        "if work_hour >= 72:\n",
        " print('초과근무 입니다')\n",
        "else:\n",
        " print('정상근무입니다')\n"
      ],
      "metadata": {
        "colab": {
          "base_uri": "https://localhost:8080/"
        },
        "id": "zERwch3t8W_S",
        "outputId": "87940ba2-fe7f-463a-e4c8-8cb1a6d4fa1e"
      },
      "execution_count": 14,
      "outputs": [
        {
          "output_type": "stream",
          "name": "stdout",
          "text": [
            "근무 시간 입력: 77\n",
            "초과근무 입니다\n"
          ]
        }
      ]
    },
    {
      "cell_type": "markdown",
      "source": [
        "4. 정수를 입력받아서 짝수인지 홀수인지 판별하는 코드 작성\n",
        " - 변수: num\n",
        " - 수식: num( % 2) !=0:"
      ],
      "metadata": {
        "id": "6n_oh0km93P2"
      }
    },
    {
      "cell_type": "code",
      "source": [
        "num = int(input('정수를 입력하시오: '))\n",
        "if (num %2) !=0:\n",
        "  print('홀수입니다')\n",
        "else:\n",
        "  print('짝수입니다')"
      ],
      "metadata": {
        "colab": {
          "base_uri": "https://localhost:8080/"
        },
        "id": "ayu5hOa1-npj",
        "outputId": "c1bda07b-b30e-4e6a-8b1b-6b64c5c06c5f"
      },
      "execution_count": 19,
      "outputs": [
        {
          "output_type": "stream",
          "name": "stdout",
          "text": [
            "정수를 입력하시오: 44\n",
            "짝수입니다\n"
          ]
        }
      ]
    },
    {
      "cell_type": "markdown",
      "source": [
        "5. 사용자의 이름과 나이를 입력받고, 답변하는 코드 작성\n",
        " - 입력: 성명-name\n",
        " - 입력: 나이-age\n",
        " - 수식: if age <= 20\n",
        "\n",
        " 최종 출력물\n",
        " - 이름을 입력하시오: ***\n",
        " - 나이를 입력하시오: **\n",
        " - (1) 프로그래밍을 배우는 최적의 나이 입니다\n",
        " - (2) 아직도 늦지 않았습니다. 도전정신"
      ],
      "metadata": {
        "id": "vuB4QBbPAeRp"
      }
    },
    {
      "cell_type": "code",
      "source": [
        "age= int(input('나이를 입력하시오: '))\n",
        "name= input('이름을 입력하시오: ')\n",
        "if age <= 20:\n",
        "  print('프로그래밍을 배우는 최적의 나이입니다')\n",
        "else:\n",
        "  print('아직도 늦지 않았습니다 도전정신')"
      ],
      "metadata": {
        "colab": {
          "base_uri": "https://localhost:8080/"
        },
        "id": "O3dNIEngBOJT",
        "outputId": "a0c0f481-e0dd-4457-ad18-9d653676601b"
      },
      "execution_count": 26,
      "outputs": [
        {
          "output_type": "stream",
          "name": "stdout",
          "text": [
            "나이를 입력하시오: 20\n",
            "이름을 입력하시오: das\n",
            "프로그래밍을 배우는 최적의 나이입니다\n"
          ]
        }
      ]
    },
    {
      "cell_type": "code",
      "source": [
        "import random  # random 모듈을 가져옵니다.\n",
        "\n",
        "def generate_lotto_numbers():  # 로또 번호를 생성하는 함수를 정의합니다.\n",
        "    numbers = range(1, 46)  # 1부터 45까지의 숫자를 생성합니다.\n",
        "    lotto = random.sample(numbers, 6)  # 6개의 숫자를 무작위로 선택합니다.\n",
        "    return sorted(lotto)  # 선택된 번호를 정렬해서 반환합니다.\n",
        "\n",
        "# 메인 실행\n",
        "lotto_numbers = generate_lotto_numbers()  # 로또 번호를 생성합니다.\n",
        "print(\"생성된 로또 번호는: \", lotto_numbers)  # 생성된 로또 번호를 출력합니다.\n"
      ],
      "metadata": {
        "colab": {
          "base_uri": "https://localhost:8080/"
        },
        "id": "7VHxpLFyE5iK",
        "outputId": "09b86228-77d3-49e4-bf03-b7b0ed384a00"
      },
      "execution_count": 39,
      "outputs": [
        {
          "output_type": "stream",
          "name": "stdout",
          "text": [
            "생성된 로또 번호는:  [1, 4, 6, 18, 20, 30]\n"
          ]
        }
      ]
    },
    {
      "cell_type": "code",
      "source": [
        "# 사용자로부터 이름과 나이를 입력받습니다.\n",
        "name = input(\"이름을 입력하시오: \")\n",
        "age = int(input(\"나이를 입력하시오: \"))  # 입력받은 나이는 문자열이므로 정수로 변환합니다.\n",
        "\n",
        "# 나이에 따라 다른 메시지를 출력합니다.\n",
        "if age <= 20:\n",
        "    print(f\"{name}님, 프로그래밍을 배우는 최적의 나이입니다.\")\n",
        "else:\n",
        "    print(f\"{name}님, 아직도 늦지 않았습니다. 도전정신을 가지고 시작해보세요.\")\n"
      ],
      "metadata": {
        "colab": {
          "base_uri": "https://localhost:8080/"
        },
        "id": "GqDTjiw7GDDK",
        "outputId": "f82b1da1-d4d2-4a77-e705-c24f19e26a01"
      },
      "execution_count": 41,
      "outputs": [
        {
          "output_type": "stream",
          "name": "stdout",
          "text": [
            "이름을 입력하시오: ㅁㄴㅇㅁㄴㅇ\n",
            "나이를 입력하시오: 0166515165165465465\n",
            "ㅁㄴㅇㅁㄴㅇ님, 아직도 늦지 않았습니다. 도전정신을 가지고 시작해보세요.\n"
          ]
        }
      ]
    }
  ]
}