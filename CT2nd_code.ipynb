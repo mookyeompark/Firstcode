{
  "nbformat": 4,
  "nbformat_minor": 0,
  "metadata": {
    "colab": {
      "provenance": [],
      "authorship_tag": "ABX9TyP32Pakmlp8lODRGa7vsPO4",
      "include_colab_link": true
    },
    "kernelspec": {
      "name": "python3",
      "display_name": "Python 3"
    },
    "language_info": {
      "name": "python"
    }
  },
  "cells": [
    {
      "cell_type": "markdown",
      "metadata": {
        "id": "view-in-github",
        "colab_type": "text"
      },
      "source": [
        "<a href=\"https://colab.research.google.com/github/mookyeompark/Firstcode/blob/main/CT2nd_code.ipynb\" target=\"_parent\"><img src=\"https://colab.research.google.com/assets/colab-badge.svg\" alt=\"Open In Colab\"/></a>"
      ]
    },
    {
      "cell_type": "markdown",
      "source": [
        "2번째 코딩\n",
        "--사용자로부터 3개의 값을 받아서 합을 내고 평균을 출력하는 **코드**"
      ],
      "metadata": {
        "id": "uFUxGX_wKZkL"
      }
    },
    {
      "cell_type": "code",
      "execution_count": null,
      "metadata": {
        "colab": {
          "base_uri": "https://localhost:8080/"
        },
        "id": "_esgaQuqG1s0",
        "outputId": "d7b2331b-0bc5-4bcf-a120-1b66c04e3ee9"
      },
      "outputs": [
        {
          "output_type": "stream",
          "name": "stdout",
          "text": [
            "N1의 값을 입력하시오: 40\n",
            "N2의 값을 입력하시오: 50\n",
            "N3의 값을 입력하시오: 60\n",
            "50.0\n"
          ]
        }
      ],
      "source": [
        "n1 = int(input(\"N1의 값을 입력하시오: \"))  # 사용자로부터 'N1' 값을 입력받아 정수로 변환하여 'n1' 변수에 저장합니다.\n",
        "n2 = int(input(\"N2의 값을 입력하시오: \"))  # 사용자로부터 'N2' 값을 입력받아 정수로 변환하여 'n2' 변수에 저장합니다.\n",
        "n3 = int(input(\"N3의 값을 입력하시오: \"))  # 사용자로부터 'N3' 값을 입력받아 정수로 변환하여 'n3' 변수에 저장합니다.\n",
        "total = n1 + n2 + n3   # 'n1', 'n2', 'n3' 변수의 값을 모두 더하여 'total' 변수에 저장합니다.\n",
        "average = total / 3    # 'total' 변수의 값을 3으로 나누어 평균을 계산하여 'average' 변수에 저장합니다.\n",
        "print(average)   # 'average' 변수의 값을 출력합니다."
      ]
    }
  ]
}