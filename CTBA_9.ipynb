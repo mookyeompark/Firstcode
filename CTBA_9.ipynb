{
  "nbformat": 4,
  "nbformat_minor": 0,
  "metadata": {
    "colab": {
      "provenance": [],
      "authorship_tag": "ABX9TyP7ZS0JBFCf5rkBeG1PecfV",
      "include_colab_link": true
    },
    "kernelspec": {
      "name": "python3",
      "display_name": "Python 3"
    },
    "language_info": {
      "name": "python"
    }
  },
  "cells": [
    {
      "cell_type": "markdown",
      "metadata": {
        "id": "view-in-github",
        "colab_type": "text"
      },
      "source": [
        "<a href=\"https://colab.research.google.com/github/mookyeompark/Firstcode/blob/main/CTBA_9.ipynb\" target=\"_parent\"><img src=\"https://colab.research.google.com/assets/colab-badge.svg\" alt=\"Open In Colab\"/></a>"
      ]
    },
    {
      "cell_type": "markdown",
      "source": [
        "1. 두가지 이상의 선택. 다방향 선택구조 코딩\n",
        " - 배송료 처리 3가지로 작성\n",
        " - 변수: price, 가격 10만원 이상 0원, 2만원 이상 3000원, 그 외 5000원"
      ],
      "metadata": {
        "id": "My97ubFbMB_H"
      }
    },
    {
      "cell_type": "code",
      "source": [
        "print(\"배송료를 계산합니다\")\n",
        "print(\"#\" * 30)\n",
        "price = int(input('구입금액 입력: '))\n",
        "if price >=100000:\n",
        "  shippingcost = 0\n",
        "else:\n",
        "  if price >=20000:\n",
        "    shippingcost = 3000\n",
        "  else:\n",
        "    shippingcost = 5000\n",
        "print(f'배송료는 {shippingcost}입니다')"
      ],
      "metadata": {
        "colab": {
          "base_uri": "https://localhost:8080/"
        },
        "id": "v8N-L0brM4RV",
        "outputId": "644d33d6-af89-4714-a8c3-0e04befc8ed2"
      },
      "execution_count": 14,
      "outputs": [
        {
          "output_type": "stream",
          "name": "stdout",
          "text": [
            "배송료를 계산합니다\n",
            "##############################\n",
            "구입금액 입력: 556233223\n",
            "배송료는 0입니다\n"
          ]
        }
      ]
    },
    {
      "cell_type": "markdown",
      "source": [
        "2. 환영합니다. 5번 출력, 10번 출력, 30번 출력"
      ],
      "metadata": {
        "id": "mkfy_MGsOkzx"
      }
    },
    {
      "cell_type": "code",
      "source": [
        "print(\"환영합니다\")\n",
        "print(\"환영합니다\")\n",
        "print(\"환영합니다\")\n",
        "print(\"환영합니다\")\n",
        "print(\"환영합니다\")"
      ],
      "metadata": {
        "colab": {
          "base_uri": "https://localhost:8080/"
        },
        "id": "OFvGDXOCOZ2x",
        "outputId": "404f3463-5406-4042-8837-b12f41124573"
      },
      "execution_count": 6,
      "outputs": [
        {
          "output_type": "stream",
          "name": "stdout",
          "text": [
            "환영합니다\n",
            "환영합니다\n",
            "환영합니다\n",
            "환영합니다\n",
            "환영합니다\n"
          ]
        }
      ]
    },
    {
      "cell_type": "code",
      "source": [
        "print(\"환영합니다\\n\" * 5)"
      ],
      "metadata": {
        "colab": {
          "base_uri": "https://localhost:8080/"
        },
        "id": "U9BDHS2kOl19",
        "outputId": "d4136cd2-d84e-47df-dfb4-20dfb1ede3fe"
      },
      "execution_count": 12,
      "outputs": [
        {
          "output_type": "stream",
          "name": "stdout",
          "text": [
            "환영합니다\n",
            "환영합니다\n",
            "환영합니다\n",
            "환영합니다\n",
            "환영합니다\n",
            "\n"
          ]
        }
      ]
    },
    {
      "cell_type": "code",
      "source": [
        "count = 1\n",
        "while count <=5:\n",
        "  print(\"(\", count,\")\", \"환영합니다\")\n",
        "  print(f'({count})환영합니다')\n",
        "  count = count + 1\n",
        "  #count + 1"
      ],
      "metadata": {
        "colab": {
          "base_uri": "https://localhost:8080/"
        },
        "id": "zz_3AnNXSOjB",
        "outputId": "c23fc30a-a81e-45a8-e12b-859b0b6070cf"
      },
      "execution_count": 26,
      "outputs": [
        {
          "output_type": "stream",
          "name": "stdout",
          "text": [
            "( 1 ) 환영합니다\n",
            "(1)환영합니다\n",
            "( 2 ) 환영합니다\n",
            "(2)환영합니다\n",
            "( 3 ) 환영합니다\n",
            "(3)환영합니다\n",
            "( 4 ) 환영합니다\n",
            "(4)환영합니다\n",
            "( 5 ) 환영합니다\n",
            "(5)환영합니다\n"
          ]
        }
      ]
    },
    {
      "cell_type": "markdown",
      "source": [
        "3. 0부터 9까지 출력하는 과정\n",
        " - 변수: x"
      ],
      "metadata": {
        "id": "ewdli1_kUzvg"
      }
    },
    {
      "cell_type": "code",
      "source": [
        "x = 0\n",
        "while x<10:\n",
        "  print(x, end=' ')\n",
        "  x += 1"
      ],
      "metadata": {
        "colab": {
          "base_uri": "https://localhost:8080/"
        },
        "id": "1dtIhRxXU18s",
        "outputId": "d79ef7a1-ae60-4aeb-ef05-7671ef494899"
      },
      "execution_count": 32,
      "outputs": [
        {
          "output_type": "stream",
          "name": "stdout",
          "text": [
            "0 1 2 3 4 5 6 7 8 9 "
          ]
        }
      ]
    },
    {
      "cell_type": "markdown",
      "source": [
        "4. 1부터 10까지 정수의 합을 계산하여 출력하는 코드"
      ],
      "metadata": {
        "id": "Sur5xYMmYc-A"
      }
    },
    {
      "cell_type": "code",
      "source": [
        "\n",
        "x = 1\n",
        "total = 0\n",
        "while x <= 10:\n",
        "  total = total + x\n",
        "  x += 1\n",
        "  print(total)"
      ],
      "metadata": {
        "colab": {
          "base_uri": "https://localhost:8080/"
        },
        "id": "CMEud60HYiSB",
        "outputId": "009d05ba-d819-4aac-d66c-38cf23813d8f"
      },
      "execution_count": 38,
      "outputs": [
        {
          "output_type": "stream",
          "name": "stdout",
          "text": [
            "1\n",
            "3\n",
            "6\n",
            "10\n",
            "15\n",
            "21\n",
            "28\n",
            "36\n",
            "45\n",
            "55\n"
          ]
        }
      ]
    },
    {
      "cell_type": "code",
      "source": [
        "x=1\n",
        "while x <=10:\n",
        ""
      ],
      "metadata": {
        "id": "TUrSJ_udY8p3"
      },
      "execution_count": null,
      "outputs": []
    },
    {
      "cell_type": "markdown",
      "source": [
        "5. 3-6-9 게임(3의 배수 판단): 3의 배수를 3으로 나누면 나머지가 0이 되므로(i mode 3)의 값이 0이면 박수를 출력, 아니면 숫자 출력하는 코드 작성"
      ],
      "metadata": {
        "id": "XOTFgJG2Vq3X"
      }
    },
    {
      "cell_type": "code",
      "source": [
        "i = 0                                 #변수 i는 0으로 선언\n",
        "while i <= 30:                        #반복문 while 사용해서 i가 30보다 작거나 같을때\n",
        "  if i % 3==0:                          #만약 i값을 3으로 나눈 나머지가 0이면\n",
        "    print(\"박수\", end=' ')            #박수를 출력 후 공백을 하나 만듦\n",
        "  else:                               #위의 것이 아니면,\n",
        "    print(i, end=' ')                  #i값만 출력하고 공백 하나 만듦\n",
        "  i += 1                            #변수 i값에 i와1을 더해서 다시 변수 i에 선언"
      ],
      "metadata": {
        "colab": {
          "base_uri": "https://localhost:8080/"
        },
        "id": "Hhqx6-SMXjFX",
        "outputId": "357111c0-d473-43d1-a12f-0333688902b0"
      },
      "execution_count": 62,
      "outputs": [
        {
          "output_type": "stream",
          "name": "stdout",
          "text": [
            "박수 1 2 박수 4 5 박수 7 8 박수 10 11 박수 13 14 박수 16 17 박수 19 20 박수 22 23 박수 25 26 박수 28 29 박수 "
          ]
        }
      ]
    },
    {
      "cell_type": "code",
      "source": [
        "for num in range(1, 11):    #1부터 11까지의 숫자를 반복\n",
        "  if num % 3 ==0:           #숫자 (num을 3으로 나눈 나머지가 0인 경우)\n",
        "    print(\"박수\" ,  end=' ')  # 박수를 출력하고 공백 만듦\n",
        "  else:                    #그게 아니면\n",
        "    print(num, end=' ')    #숫자만 출력하고 공백 만듦"
      ],
      "metadata": {
        "colab": {
          "base_uri": "https://localhost:8080/"
        },
        "id": "8KilK00GZM3u",
        "outputId": "90a93466-f906-4b01-fdfa-00380c6ba6ce"
      },
      "execution_count": 41,
      "outputs": [
        {
          "output_type": "stream",
          "name": "stdout",
          "text": [
            "1 2 박수 4 5 박수 7 8 박수 10 "
          ]
        }
      ]
    },
    {
      "cell_type": "markdown",
      "source": [
        "6. 팩토리얼 계산하는 코드 작성"
      ],
      "metadata": {
        "id": "BC1TTK8fagVX"
      }
    },
    {
      "cell_type": "code",
      "source": [
        "i = int(input('팩토리얼 값입력: '))\n",
        "factorial = 1\n",
        "while i >=1:\n",
        "  factorial = factorial * i\n",
        "  i -= 1\n",
        "print(factorial)"
      ],
      "metadata": {
        "colab": {
          "base_uri": "https://localhost:8080/"
        },
        "id": "lxls7l6SajGX",
        "outputId": "11073d1c-95ea-4a7b-a02c-b7b47ddd1ce6"
      },
      "execution_count": 54,
      "outputs": [
        {
          "output_type": "stream",
          "name": "stdout",
          "text": [
            "팩토리얼 값입력: 5\n",
            "120\n"
          ]
        }
      ]
    },
    {
      "cell_type": "code",
      "source": [
        "num = int(input('팩토리얼 값입력: '))\n",
        "factorial = 1\n",
        "while num >=1:\n",
        "  factorial = factorial*num\n",
        "  num-=1\n",
        "print(\"계산된 팩토리얼값은: \", factorial)"
      ],
      "metadata": {
        "colab": {
          "base_uri": "https://localhost:8080/"
        },
        "id": "KycSRoBbbgw3",
        "outputId": "38152645-ee57-42c8-9e9a-ca711cbb78f0"
      },
      "execution_count": 49,
      "outputs": [
        {
          "output_type": "stream",
          "name": "stdout",
          "text": [
            "팩토리얼 값입력: 3\n",
            "계산된 팩토리얼값은:  6\n"
          ]
        }
      ]
    },
    {
      "cell_type": "markdown",
      "source": [
        "counter +=\n",
        "*=\n",
        "\n",
        "-=\n",
        "\n",
        "\n"
      ],
      "metadata": {
        "id": "TsSWFIGHdM9w"
      }
    }
  ]
}